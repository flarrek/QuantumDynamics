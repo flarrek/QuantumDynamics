{
 "cells": [
  {
   "cell_type": "code",
   "execution_count": null,
   "metadata": {},
   "outputs": [],
   "source": [
    "using QuantumDynamics"
   ]
  },
  {
   "cell_type": "code",
   "execution_count": null,
   "metadata": {},
   "outputs": [],
   "source": [
    "X = 1000.\n",
    "system = System( FreeHamiltonian() , Electron() ; dimensions=(-X,X) )\n",
    "\n",
    "state = ContinuousState( Position , x->(x+X)*(x-X) ; system=system )\n",
    "\n",
    "evolve!( state ; duration=1. , steps=100 )\n",
    "\n",
    "animate( state )"
   ]
  }
 ],
 "metadata": {
  "kernelspec": {
   "display_name": "Julia 1.8.5",
   "language": "julia",
   "name": "julia-1.8"
  },
  "language_info": {
   "file_extension": ".jl",
   "mimetype": "application/julia",
   "name": "julia",
   "version": "1.8.5"
  },
  "vscode": {
   "interpreter": {
    "hash": "de316f2c24380e3fecce3a6dacf634d33ca634cf357878b47446323d25647e47"
   }
  }
 },
 "nbformat": 4,
 "nbformat_minor": 4
}
