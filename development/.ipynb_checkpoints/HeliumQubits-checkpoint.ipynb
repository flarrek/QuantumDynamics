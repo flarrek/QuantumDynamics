{
 "cells": [
  {
   "cell_type": "code",
   "execution_count": null,
   "id": "eea38e13-eb42-43ef-874c-0e73ffcb4972",
   "metadata": {},
   "outputs": [],
   "source": [
    "using DelimitedFiles\n",
    "\n",
    "using QuantumDynamics"
   ]
  },
  {
   "cell_type": "code",
   "execution_count": null,
   "id": "9c0a17ea-7057-4491-bfde-7acdef7f0fc9",
   "metadata": {},
   "outputs": [],
   "source": [
    "l_e = Electron(\"left electron\");\n",
    "r_e = Electron(\"right electron\");\n",
    "\n",
    "Κ = 2326.;\n",
    "εu = 27210/Κ^2;    # is the energy unit, given in meV.\n",
    "lu = √(76.20/εu);  # is the length unit, given in nm.\n",
    "\n",
    "well_basis_data = readdlm(\"anodic_well_basis.txt\",Float64);\n",
    "\n",
    "grid = well_basis_data[:,1];\n",
    "Δx = grid[end]-grid[1];\n",
    "well_basis = [well_basis_data[:,10-n]*εu/1000 for n in 2:8];\n",
    "\n",
    "WellPotergies(amplitudes) = Observable( Position , x->sum([amplitudes[i]*well_basis[sum(x .> grid)] for i in 1:length(well_basis)]) ; name=\"well potergy\" )\n",
    "\n",
    "pamps(ζ) = -((1-ζ)*[323.3,154.9,376.2,-401.6,366.6,163.5,313.5]+ζ*[324.2,152.7,375.1,-401.3,368.5,161.2,314.2])/εu;\n",
    "    # has a double anti-crossing at ζ ≈ 0.74 and a triple anti-crossing at ζ ≈ 1.00.\n",
    "\n",
    "system = System( [Kinergies(),WellPotergies(pamps(0)),CoulombPotergy(strength=Κ),] , [l_e,r_e] ; dimensions=(-Δx/2,Δx/2) , units=[(εu,\"meV\"),(lu,\"nm\")] , name=\"helium double well\");\n",
    "\n",
    "plot( energy_basis(system)[1:6] ; visualization=\"1P\" )"
   ]
  }
 ],
 "metadata": {
  "kernelspec": {
   "display_name": "Julia 1.8.5",
   "language": "julia",
   "name": "julia-1.8"
  },
  "language_info": {
   "file_extension": ".jl",
   "mimetype": "application/julia",
   "name": "julia",
   "version": "1.8.5"
  }
 },
 "nbformat": 4,
 "nbformat_minor": 5
}
