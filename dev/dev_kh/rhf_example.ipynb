{
 "cells": [
  {
   "attachments": {},
   "cell_type": "markdown",
   "metadata": {},
   "source": [
    "Eksempel brukergrensesnitt fra min master kode:\n",
    "\n",
    "https://github.com/KarlHenrik/ComputationalPhysicsMaster/tree/master/OrbitalNeuralMethods"
   ]
  },
  {
   "cell_type": "code",
   "execution_count": null,
   "metadata": {},
   "outputs": [],
   "source": [
    "n = 2\n",
    "ω = 0.25\n",
    "ham = HOCoulomb(ω, shielding = 0.25);\n",
    "\n",
    "l = 10\n",
    "basis = SpinBasis(HOBasis(l, ω))\n",
    "grid = [x for x in range(-10, stop = 10, length = 2001)]\n",
    "system = System(n, basis, grid, ham);\n",
    "\n",
    "rhf = RHF(system);\n",
    "rhf = compute_ground_state!(rhf, max_iter = 100, tol = 1e-10, verbose=0);\n",
    "\n",
    "rhf_density = particle_density(System(rhf));\n",
    "energy(rhf)"
   ]
  },
  {
   "cell_type": "code",
   "execution_count": null,
   "metadata": {},
   "outputs": [],
   "source": []
  }
 ],
 "metadata": {
  "kernelspec": {
   "display_name": "base",
   "language": "python",
   "name": "python3"
  },
  "language_info": {
   "name": "python",
   "version": "3.9.7 (default, Sep 16 2021, 16:59:28) [MSC v.1916 64 bit (AMD64)]"
  },
  "orig_nbformat": 4,
  "vscode": {
   "interpreter": {
    "hash": "de316f2c24380e3fecce3a6dacf634d33ca634cf357878b47446323d25647e47"
   }
  }
 },
 "nbformat": 4,
 "nbformat_minor": 2
}
